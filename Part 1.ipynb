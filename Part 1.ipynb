{
 "cells": [
  {
   "cell_type": "code",
   "id": "initial_id",
   "metadata": {
    "collapsed": true,
    "jupyter": {
     "is_executing": true
    }
   },
   "source": [
    "import pandas as pd\n",
    "import numpy as np\n",
    "import pickle\n",
    "from sklearn.ensemble import RandomForestClassifier\n",
    "from sklearn.svm import SVC\n",
    "from sklearn.linear_model import LogisticRegression\n",
    "from scipy.stats import entropy\n",
    "from collections import defaultdict\n",
    "import argparse\n",
    "from matplotlib import pyplot as plt"
   ],
   "outputs": [],
   "execution_count": null
  },
  {
   "cell_type": "markdown",
   "source": [
    "## ActiveLearningPipeline Class"
   ],
   "metadata": {
    "collapsed": false
   },
   "id": "62f09c59a02a3b0d"
  },
  {
   "metadata": {
    "ExecuteTime": {
     "end_time": "2024-05-26T11:13:35.660954100Z",
     "start_time": "2024-05-26T11:13:35.652482800Z"
    }
   },
   "cell_type": "code",
   "source": [
    "class ActiveLearningPipeline:\n",
    "    def __init__(self, model,\n",
    "                 available_pool_indices,\n",
    "                 train_indices,\n",
    "                 test_indices,\n",
    "                 selection_criterion,\n",
    "                 iterations,\n",
    "                 budget_per_iter,\n",
    "                 nodes_df_path,\n",
    "                 subject_mapping_path):\n",
    "        self.model = model\n",
    "        self.iterations = iterations\n",
    "        self.budget_per_iter = budget_per_iter\n",
    "        self.nodes_df_path = nodes_df_path\n",
    "        self.available_pool_indices = available_pool_indices\n",
    "        self.train_indices = train_indices\n",
    "        self.test_indices = test_indices\n",
    "        self.selection_criterion = selection_criterion\n",
    "        self.nodes_df = pd.read_csv(nodes_df_path)\n",
    "        self.feature_vectors = self._read_feature_vectors()\n",
    "        self.labels = self._read_labels(subject_mapping_path)\n",
    "        # TODO: Implement the rest of the constructor and the method run_pipeline (this method should not be called in the constructor, but from outside the class)\n",
    "        # TODO: You are allowed to add more class methods if needed, but a class method cannot be longer than 15 lines of code\n",
    "        # TODO: Do not change the constructor signature and the already implemented methods\n",
    "\n",
    "    def _read_feature_vectors(self):\n",
    "        \"\"\"\n",
    "        Read feature vectors from the nodes dataframe\n",
    "        :return:\n",
    "        feature_vectors: numpy array, feature vectors\n",
    "        \"\"\"\n",
    "        feature_vectors_raw = self.nodes_df['features'].apply((lambda x: x.strip('][').split(', ')))\n",
    "        return np.array([[float(val) for val in feature_vector] for feature_vector in feature_vectors_raw])\n",
    "\n",
    "    def _read_labels(self, subject_mapping_path):\n",
    "        \"\"\"\n",
    "        Read subjects from the nodes dataframe, and convert them to labels (integers)\n",
    "        :return:\n",
    "        labels: numpy array, labels\n",
    "        \"\"\"\n",
    "        with open(subject_mapping_path, 'rb') as f:\n",
    "            subject_mapping = pickle.load(f)\n",
    "        labels = self.nodes_df['subject'].apply(lambda x: subject_mapping[x])\n",
    "        return np.array(labels)\n",
    "\n",
    "    def run_pipeline(self):\n",
    "        \"\"\"\n",
    "        Run the active learning pipeline\n",
    "        :return\n",
    "        accuracy_scores: list, accuracy scores at each iteration\n",
    "        \"\"\"\n",
    "        accuracy_scores = []\n",
    "        for iteration in range(self.iterations):\n",
    "            if len(self.train_indices) > 600:\n",
    "                # raise error if the train set is larger than 600 samples\n",
    "                raise ValueError('The train set is larger than 600 samples')\n",
    "            # TODO: Implement the active learning pipeline. \n",
    "            # TODO: Do not change the lines that are already implemented here in this method. Only add your code before and after them.\n",
    "            accuracy = self._evaluate_model(self.model)\n",
    "            accuracy_scores.append(accuracy)\n",
    "        return accuracy_scores\n",
    "\n",
    "    def _evaluate_model(self, trained_model):\n",
    "        \"\"\"\n",
    "        Evaluate the model\n",
    "        :return:\n",
    "        accuracy: float, accuracy of the model\n",
    "        \"\"\"\n",
    "        # todo: Make sure that there is no test sample in the train set\n",
    "        preds = trained_model.predict(self.feature_vectors[self.test_indices])\n",
    "        return round(np.mean(preds == self.labels[self.test_indices]), 3)"
   ],
   "id": "67518a644a21072d",
   "outputs": [],
   "execution_count": 13
  },
  {
   "cell_type": "code",
   "source": [
    "def generate_plot(accuracy_scores_dict):\n",
    "    \"\"\"\n",
    "    Generate a plot\n",
    "    \"\"\"\n",
    "    for criterion, accuracy_scores in accuracy_scores_dict.items():\n",
    "        plt.plot(range(1, len(accuracy_scores) + 1), accuracy_scores, label=criterion)\n",
    "    plt.xlabel('Iterations')\n",
    "    plt.ylabel('Accuracy')\n",
    "    plt.legend()\n",
    "    plt.show()"
   ],
   "metadata": {
    "collapsed": false,
    "ExecuteTime": {
     "end_time": "2024-05-26T11:13:35.673634800Z",
     "start_time": "2024-05-26T11:13:35.660954100Z"
    }
   },
   "id": "a3e51f57a0ae70fe",
   "outputs": [],
   "execution_count": 14
  },
  {
   "cell_type": "code",
   "source": [
    "model = 'RandomForestClassifier' # Choose a model ('RandomForestClassifier', 'SVC', 'LogisticRegression')\n",
    "with open('indices_dict.pkl', 'rb') as f:\n",
    "    indices_dict = pickle.load(f)\n",
    "available_pool_indices = indices_dict['available_pool_indices']\n",
    "train_indices = indices_dict['train_indices']\n",
    "test_indices = indices_dict['test_indices']\n",
    "iterations = 30\n",
    "budget_per_iter = 20\n",
    "nodes_df_path = 'nodes.csv'\n",
    "subject_mapping_path = 'subject_mapping.pkl'\n",
    "\n",
    "selection_criteria = ['uncertainty', 'random']\n",
    "accuracy_scores_dict = defaultdict(list)"
   ],
   "metadata": {
    "collapsed": false,
    "ExecuteTime": {
     "end_time": "2024-05-26T11:13:35.689507400Z",
     "start_time": "2024-05-26T11:13:35.670460600Z"
    }
   },
   "id": "c5e56a8007517ef4",
   "outputs": [],
   "execution_count": 15
  },
  {
   "cell_type": "code",
   "execution_count": null,
   "outputs": [],
   "source": [
    "for criterion in selection_criteria:\n",
    "    AL_class = ActiveLearningPipeline(model=model,\n",
    "                                      test_indices=test_indices,\n",
    "                                      available_pool_indices=available_pool_indices,\n",
    "                                      train_indices=train_indices,\n",
    "                                      selection_criterion=criterion,\n",
    "                                      iterations=iterations,\n",
    "                                      budget_per_iter=budget_per_iter,\n",
    "                                      nodes_df_path=nodes_df_path,\n",
    "                                      subject_mapping_path=subject_mapping_path)\n",
    "    accuracy_scores_dict[criterion] = AL_class.run_pipeline()\n",
    "generate_plot(accuracy_scores_dict)"
   ],
   "metadata": {
    "collapsed": false
   },
   "id": "5ce0277c0e913b38"
  }
 ],
 "metadata": {
  "kernelspec": {
   "display_name": "Python 3",
   "language": "python",
   "name": "python3"
  },
  "language_info": {
   "codemirror_mode": {
    "name": "ipython",
    "version": 2
   },
   "file_extension": ".py",
   "mimetype": "text/x-python",
   "name": "python",
   "nbconvert_exporter": "python",
   "pygments_lexer": "ipython2",
   "version": "2.7.6"
  }
 },
 "nbformat": 4,
 "nbformat_minor": 5
}
