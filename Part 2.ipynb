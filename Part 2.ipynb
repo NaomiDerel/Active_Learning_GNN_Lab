{
 "cells": [
  {
   "cell_type": "code",
   "execution_count": 2,
   "id": "initial_id",
   "metadata": {
    "ExecuteTime": {
     "end_time": "2024-07-15T00:21:27.912347400Z",
     "start_time": "2024-07-15T00:21:19.533317100Z"
    },
    "collapsed": true
   },
   "outputs": [
    {
     "name": "stderr",
     "output_type": "stream",
     "text": [
      "/opt/homebrew/lib/python3.10/site-packages/tqdm/auto.py:21: TqdmWarning: IProgress not found. Please update jupyter and ipywidgets. See https://ipywidgets.readthedocs.io/en/stable/user_install.html\n",
      "  from .autonotebook import tqdm as notebook_tqdm\n"
     ]
    },
    {
     "data": {
      "text/plain": [
       "<torch_geometric.debug.set_debug at 0x12ac39690>"
      ]
     },
     "execution_count": 2,
     "metadata": {},
     "output_type": "execute_result"
    }
   ],
   "source": [
    "import torch\n",
    "from torch_geometric.data import Data\n",
    "import pandas as pd\n",
    "import pickle\n",
    "import numpy as np\n",
    "\n",
    "from torch_geometric.nn import SAGEConv\n",
    "import torch\n",
    "import torch_geometric\n",
    "import torch.nn.functional as F\n",
    "torch_geometric.set_debug(True)"
   ]
  },
  {
   "cell_type": "markdown",
   "id": "136140db7336aab",
   "metadata": {
    "collapsed": false
   },
   "source": [
    "# Helper Functions"
   ]
  },
  {
   "cell_type": "code",
   "execution_count": 3,
   "id": "8991848c218eb533",
   "metadata": {
    "ExecuteTime": {
     "end_time": "2024-07-15T00:25:17.172389200Z",
     "start_time": "2024-07-15T00:25:17.140863300Z"
    },
    "collapsed": false
   },
   "outputs": [],
   "source": [
    "def read_data(nodes_df_path, edges_df_path, subject_mapping_path):\n",
    "    nodes_df = pd.read_csv(nodes_df_path)\n",
    "    edges_df = pd.read_csv(edges_df_path)\n",
    "    with open(subject_mapping_path, 'rb') as f:\n",
    "        subject_mapping = pickle.load(f)\n",
    "    return nodes_df, edges_df, subject_mapping\n",
    "\n",
    "def get_node_id_mapping(nodes_df):\n",
    "    node_id_mapping, inverse_node_id_mapping = dict(), dict()\n",
    "    for i, node_id in enumerate(nodes_df['nodeId']):\n",
    "        node_id_mapping[i] = node_id\n",
    "        inverse_node_id_mapping[node_id] = i\n",
    "    return node_id_mapping, inverse_node_id_mapping"
   ]
  },
  {
   "cell_type": "code",
   "execution_count": 104,
   "id": "6253a74469198dfa",
   "metadata": {
    "collapsed": false
   },
   "outputs": [],
   "source": [
    "def get_feature_vectors(nodes_df):\n",
    "    # TODO: Complete this function\n",
    "    feature_list = []\n",
    "    for i, feature in enumerate(nodes_df['features']):\n",
    "        feature = list(map(int, feature[1:-1].split(','))) # turn string into list of numbers\n",
    "        feature_list.append(torch.tensor(feature, dtype=torch.float32))\n",
    "    return torch.stack(feature_list)\n",
    "\n",
    "def get_edges(edges_df, inverse_node_id_mapping):\n",
    "    # TODO: Complete this function\n",
    "    edges_list = []\n",
    "    for i, edge in enumerate(edges_df.to_dict('records')):\n",
    "        source_node = inverse_node_id_mapping[edge['sourceNodeId']]\n",
    "        target_node = inverse_node_id_mapping[edge['targetNodeId']]\n",
    "        # relation = edge['relationshipType'] ### the relation is always CITES\n",
    "        edges_list.append(torch.tensor([source_node, target_node], dtype=torch.long))\n",
    "    return torch.stack(edges_list).t().contiguous()\n",
    "\n",
    "def get_labels(nodes_df, subject_mapping):\n",
    "    # TODO: Complete this function\n",
    "    return torch.tensor([subject_mapping[val] for val in nodes_df['subject'].values], dtype=torch.long)"
   ]
  },
  {
   "cell_type": "markdown",
   "id": "10ebc6262a706663",
   "metadata": {
    "collapsed": false
   },
   "source": [
    "# Graph Generation"
   ]
  },
  {
   "cell_type": "code",
   "execution_count": 6,
   "id": "2990d42fb3fb06aa",
   "metadata": {
    "ExecuteTime": {
     "end_time": "2024-07-15T00:25:18.599753700Z",
     "start_time": "2024-07-15T00:25:18.441126100Z"
    },
    "collapsed": false
   },
   "outputs": [],
   "source": [
    "nodes_df_path = 'data/nodes.csv'\n",
    "edges_df_path = 'data/edges.csv'\n",
    "subject_mapping_path = 'data/subject_mapping.pkl'\n",
    "nodes_df, edges_df, subject_mapping = read_data(nodes_df_path, edges_df_path, subject_mapping_path)"
   ]
  },
  {
   "cell_type": "code",
   "execution_count": 100,
   "id": "76e4a47e",
   "metadata": {},
   "outputs": [
    {
     "name": "stdout",
     "output_type": "stream",
     "text": [
      "Number of nodes: 2708\n",
      "Dimension of features: 1433\n",
      "Number of edges: 10556\n",
      "Number of labels: 7\n",
      "{'Neural_Networks': 0, 'Rule_Learning': 1, 'Reinforcement_Learning': 2, 'Probabilistic_Methods': 3, 'Theory': 4, 'Genetic_Algorithms': 5, 'Case_Based': 6}\n"
     ]
    }
   ],
   "source": [
    "# Check data sizes:\n",
    "print(\"Number of nodes:\", nodes_df.shape[0])\n",
    "print(\"Dimension of features:\", len(nodes_df['features'].iloc[0].split(',')))\n",
    "print(\"Number of edges:\", edges_df.shape[0])\n",
    "print(\"Number of labels:\", len(subject_mapping))\n",
    "print(subject_mapping)"
   ]
  },
  {
   "cell_type": "code",
   "execution_count": 105,
   "id": "84eb6ec8c176a408",
   "metadata": {
    "collapsed": false
   },
   "outputs": [
    {
     "name": "stdout",
     "output_type": "stream",
     "text": [
      "x: torch.Size([2708, 1433])\n",
      "edge_index: torch.Size([2, 10556])\n",
      "y: torch.Size([2708])\n"
     ]
    }
   ],
   "source": [
    "node_id_mapping, inverse_node_id_mapping = get_node_id_mapping(nodes_df)\n",
    "\n",
    "# TODO: These functions need to be implemented. You can decide what are the arguments to these functions.\n",
    "x = get_feature_vectors(nodes_df)\n",
    "print(\"x:\", x.shape)\n",
    "\n",
    "edge_index = get_edges(edges_df, inverse_node_id_mapping)\n",
    "print(\"edge_index:\", edge_index.shape)\n",
    "\n",
    "y = get_labels(nodes_df, subject_mapping)\n",
    "print(\"y:\", y.shape)"
   ]
  },
  {
   "cell_type": "code",
   "execution_count": 88,
   "id": "dd2655ccbe7fb0d0",
   "metadata": {
    "collapsed": false
   },
   "outputs": [],
   "source": [
    "with open('data/indices_dict_part2.pkl', 'rb') as f:\n",
    "    indices_dict = pickle.load(f)"
   ]
  },
  {
   "cell_type": "code",
   "execution_count": 106,
   "id": "1a0eded454dcceb9",
   "metadata": {
    "collapsed": false
   },
   "outputs": [],
   "source": [
    "train_mask = torch.tensor([1 if node_id_mapping[i] in indices_dict['train_indices'] else 0 for i in range(x.shape[0])], dtype=torch.bool)\n",
    "valid_mask = torch.tensor([1 if node_id_mapping[i] in indices_dict['valid_indices'] else 0 for i in range(x.shape[0])], dtype=torch.bool)\n",
    "test_mask = torch.tensor([1 if node_id_mapping[i] in indices_dict['test_indices'] else 0 for i in range(x.shape[0])], dtype=torch.bool)"
   ]
  },
  {
   "cell_type": "code",
   "execution_count": 107,
   "id": "6d6223faffd4f9c0",
   "metadata": {
    "collapsed": false
   },
   "outputs": [
    {
     "data": {
      "text/plain": [
       "Data(x=[2708, 1433], edge_index=[2, 10556], y=[2708], train_mask=[2708], valid_mask=[2708], test_mask=[2708])"
      ]
     },
     "execution_count": 107,
     "metadata": {},
     "output_type": "execute_result"
    }
   ],
   "source": [
    "data = Data(x=x, y=y, edge_index=edge_index, train_mask=train_mask, valid_mask=valid_mask, test_mask=test_mask)\n",
    "data"
   ]
  },
  {
   "cell_type": "markdown",
   "id": "54a0a673d4c35320",
   "metadata": {
    "collapsed": false
   },
   "source": [
    "# GNN Model"
   ]
  },
  {
   "cell_type": "code",
   "execution_count": 143,
   "id": "93b3c4fe",
   "metadata": {},
   "outputs": [],
   "source": [
    "# doesnt work!!\n",
    "torch.manual_seed(42)\n",
    "np.random.seed(42)"
   ]
  },
  {
   "cell_type": "code",
   "execution_count": 215,
   "id": "b5ec05507e2191a6",
   "metadata": {
    "collapsed": false
   },
   "outputs": [],
   "source": [
    "class GraphSAGE(torch.nn.Module):\n",
    "    def __init__(self, hidden_channels, output_dim, seed=1):\n",
    "        super().__init__()\n",
    "        torch.cuda.manual_seed(seed)\n",
    "        self.conv1 = SAGEConv((-1, -1), hidden_channels, normalize=True)\n",
    "        self.conv2 = SAGEConv((-1, -1), hidden_channels//2, normalize=True)\n",
    "        self.conv3 = SAGEConv((-1, -1), output_dim, normalize=True)\n",
    "\n",
    "    def forward(self, x, edge_index):\n",
    "        # TODO: Complete this function\n",
    "        x = self.conv1(x, edge_index)\n",
    "        x = F.dropout(x, p=0.5, training=self.training)\n",
    "        # x = self.conv2(x, edge_index)\n",
    "        # x = F.dropout(x, p=0.5, training=self.training)\n",
    "        # x = self.conv3(x, edge_index)\n",
    "        return F.log_softmax(x, dim=1)"
   ]
  },
  {
   "cell_type": "markdown",
   "id": "93bb36dc1de13f2c",
   "metadata": {
    "collapsed": false
   },
   "source": [
    "# Training"
   ]
  },
  {
   "cell_type": "code",
   "execution_count": 227,
   "id": "b0893059e6c29aca",
   "metadata": {
    "collapsed": false
   },
   "outputs": [],
   "source": [
    "output_dim = len(subject_mapping)\n",
    "device = torch.device('cuda' if torch.cuda.is_available() else 'cpu')\n",
    "model = GraphSAGE(x.shape[1], output_dim).to(device)\n",
    "data = data.to(device)\n",
    "optimizer = torch.optim.Adam(model.parameters(), lr=0.01, weight_decay=5e-4)\n",
    "epochs = 500"
   ]
  },
  {
   "cell_type": "code",
   "execution_count": 226,
   "id": "6aef2870",
   "metadata": {},
   "outputs": [],
   "source": [
    "def early_stop(rel_data_mask):\n",
    "    model.eval()\n",
    "    preds = model(data.x, data.edge_index).argmax(dim=1)\n",
    "    correct = (preds[rel_data_mask] == data.y[rel_data_mask]).sum()\n",
    "    acc = int(correct) / int(rel_data_mask.sum())\n",
    "    return acc"
   ]
  },
  {
   "cell_type": "code",
   "execution_count": 228,
   "id": "af409902fac89678",
   "metadata": {
    "collapsed": false
   },
   "outputs": [],
   "source": [
    "def train():\n",
    "    # TODO: Complete this function\n",
    "    model.train()\n",
    "    optimizer.zero_grad()\n",
    "    avg_loss = 0\n",
    "    prev_val_acc = 0\n",
    "    \n",
    "    for epoch in range(1, epochs + 1):\n",
    "        loss = F.nll_loss(model(data.x, data.edge_index)[train_mask], data.y[train_mask])\n",
    "        loss.backward()\n",
    "        optimizer.step()\n",
    "        avg_loss += loss.item()\n",
    "        \n",
    "        if epoch % 10 == 0:\n",
    "            val_acc = early_stop(valid_mask)\n",
    "            print('Epoch: {:2d}, Loss: {:.4f}, Accuracy: {:.4f}'.format(epoch, avg_loss / 10, val_acc))\n",
    "            avg_loss = 0\n",
    "\n",
    "            # early stopping:\n",
    "            if prev_val_acc - val_acc > 0.1:\n",
    "                break\n",
    "            prev_val_acc = val_acc"
   ]
  },
  {
   "cell_type": "code",
   "execution_count": 229,
   "id": "e9fa878087d604b8",
   "metadata": {
    "collapsed": false
   },
   "outputs": [
    {
     "name": "stdout",
     "output_type": "stream",
     "text": [
      "Epoch: 10, Loss: 7.1015, Accuracy: 0.5717\n",
      "Epoch: 20, Loss: 7.0758, Accuracy: 0.5840\n",
      "Epoch: 30, Loss: 7.1129, Accuracy: 0.5984\n",
      "Epoch: 40, Loss: 7.0959, Accuracy: 0.6107\n",
      "Epoch: 50, Loss: 7.0203, Accuracy: 0.6168\n",
      "Epoch: 60, Loss: 6.8342, Accuracy: 0.6148\n",
      "Epoch: 70, Loss: 6.7085, Accuracy: 0.6148\n",
      "Epoch: 80, Loss: 6.7737, Accuracy: 0.6148\n",
      "Epoch: 90, Loss: 6.6939, Accuracy: 0.6250\n",
      "Epoch: 100, Loss: 6.6630, Accuracy: 0.6230\n",
      "Epoch: 110, Loss: 6.6986, Accuracy: 0.6270\n",
      "Epoch: 120, Loss: 6.7360, Accuracy: 0.6332\n",
      "Epoch: 130, Loss: 6.6676, Accuracy: 0.6311\n",
      "Epoch: 140, Loss: 6.6345, Accuracy: 0.6352\n",
      "Epoch: 150, Loss: 6.6015, Accuracy: 0.6373\n",
      "Epoch: 160, Loss: 6.5926, Accuracy: 0.6414\n",
      "Epoch: 170, Loss: 6.6004, Accuracy: 0.6475\n",
      "Epoch: 180, Loss: 6.5714, Accuracy: 0.6537\n",
      "Epoch: 190, Loss: 6.5568, Accuracy: 0.6598\n",
      "Epoch: 200, Loss: 6.5323, Accuracy: 0.6619\n",
      "Epoch: 210, Loss: 6.4939, Accuracy: 0.6680\n",
      "Epoch: 220, Loss: 6.4851, Accuracy: 0.6701\n",
      "Epoch: 230, Loss: 6.4848, Accuracy: 0.6701\n",
      "Epoch: 240, Loss: 6.4706, Accuracy: 0.6742\n",
      "Epoch: 250, Loss: 6.4539, Accuracy: 0.6721\n",
      "Epoch: 260, Loss: 6.4366, Accuracy: 0.6783\n",
      "Epoch: 270, Loss: 6.4199, Accuracy: 0.6824\n",
      "Epoch: 280, Loss: 6.4120, Accuracy: 0.6988\n",
      "Epoch: 290, Loss: 6.4054, Accuracy: 0.7049\n",
      "Epoch: 300, Loss: 6.3939, Accuracy: 0.7070\n",
      "Epoch: 310, Loss: 6.3854, Accuracy: 0.7049\n",
      "Epoch: 320, Loss: 6.3797, Accuracy: 0.7049\n",
      "Epoch: 330, Loss: 6.3706, Accuracy: 0.7029\n",
      "Epoch: 340, Loss: 6.3613, Accuracy: 0.7049\n",
      "Epoch: 350, Loss: 6.3553, Accuracy: 0.7029\n",
      "Epoch: 360, Loss: 6.3508, Accuracy: 0.7070\n",
      "Epoch: 370, Loss: 6.3464, Accuracy: 0.7070\n",
      "Epoch: 380, Loss: 6.3421, Accuracy: 0.7111\n",
      "Epoch: 390, Loss: 6.3378, Accuracy: 0.7152\n",
      "Epoch: 400, Loss: 6.3337, Accuracy: 0.7213\n",
      "Epoch: 410, Loss: 6.3303, Accuracy: 0.7254\n",
      "Epoch: 420, Loss: 6.3270, Accuracy: 0.7295\n",
      "Epoch: 430, Loss: 6.3240, Accuracy: 0.7295\n",
      "Epoch: 440, Loss: 6.3215, Accuracy: 0.7357\n",
      "Epoch: 450, Loss: 6.3195, Accuracy: 0.7377\n",
      "Epoch: 460, Loss: 6.3177, Accuracy: 0.7377\n",
      "Epoch: 470, Loss: 6.3159, Accuracy: 0.7377\n",
      "Epoch: 480, Loss: 6.3141, Accuracy: 0.7398\n",
      "Epoch: 490, Loss: 6.3124, Accuracy: 0.7398\n",
      "Epoch: 500, Loss: 6.3107, Accuracy: 0.7398\n"
     ]
    }
   ],
   "source": [
    "train()"
   ]
  },
  {
   "cell_type": "markdown",
   "id": "db0101f5c562bf4b",
   "metadata": {
    "collapsed": false
   },
   "source": [
    "# Evaluation"
   ]
  },
  {
   "cell_type": "code",
   "execution_count": 230,
   "id": "aa13e475b1ef81a2",
   "metadata": {
    "collapsed": false
   },
   "outputs": [],
   "source": [
    "def evaluate(rel_data_mask):\n",
    "    model.eval()\n",
    "    preds = model(data.x, data.edge_index).argmax(dim=1)\n",
    "    correct = (preds[rel_data_mask] == data.y[rel_data_mask]).sum()\n",
    "    acc = int(correct) / int(rel_data_mask.sum())\n",
    "    print(f'Accuracy: {acc:.4f}')"
   ]
  },
  {
   "cell_type": "code",
   "execution_count": 231,
   "id": "cef118dafe0b395c",
   "metadata": {
    "collapsed": false
   },
   "outputs": [
    {
     "name": "stdout",
     "output_type": "stream",
     "text": [
      "Accuracy: 0.7646\n"
     ]
    }
   ],
   "source": [
    "evaluate(data.test_mask)"
   ]
  },
  {
   "cell_type": "code",
   "execution_count": null,
   "id": "a14def337d9a7d0a",
   "metadata": {
    "collapsed": false
   },
   "outputs": [],
   "source": []
  },
  {
   "cell_type": "code",
   "execution_count": null,
   "id": "a965e0698fe75a40",
   "metadata": {
    "collapsed": false
   },
   "outputs": [],
   "source": []
  },
  {
   "cell_type": "markdown",
   "id": "9bb43f44a3c08fc0",
   "metadata": {
    "collapsed": false
   },
   "source": [
    "# TSNE Visualization"
   ]
  },
  {
   "cell_type": "code",
   "execution_count": null,
   "id": "baed15108b365c82",
   "metadata": {
    "collapsed": false
   },
   "outputs": [],
   "source": [
    "# TODO: Complete this function\n",
    "def visualize():\n",
    "    pass"
   ]
  }
 ],
 "metadata": {
  "kernelspec": {
   "display_name": "Python 3",
   "language": "python",
   "name": "python3"
  },
  "language_info": {
   "codemirror_mode": {
    "name": "ipython",
    "version": 3
   },
   "file_extension": ".py",
   "mimetype": "text/x-python",
   "name": "python",
   "nbconvert_exporter": "python",
   "pygments_lexer": "ipython3",
   "version": "3.10.14"
  }
 },
 "nbformat": 4,
 "nbformat_minor": 5
}
